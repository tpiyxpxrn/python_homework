{
 "cells": [
  {
   "cell_type": "code",
   "execution_count": 3,
   "id": "c9ccc5c1-5f22-4a13-ae02-f95b49847398",
   "metadata": {},
   "outputs": [
    {
     "data": {
      "text/plain": [
       "'นางสาวปิยะพร พงษ์วัน 6712732123'"
      ]
     },
     "execution_count": 3,
     "metadata": {},
     "output_type": "execute_result"
    }
   ],
   "source": [
    "\"งานเเรก ชื่อ-สกุล รหัสนักศึกษา\"\n",
    "\n",
    "\"นางสาวปิยะพร พงษ์วัน 6712732123\""
   ]
  },
  {
   "cell_type": "code",
   "execution_count": null,
   "id": "afe81dbc-b30c-408e-be8b-0e3a9fe1a658",
   "metadata": {},
   "outputs": [],
   "source": []
  }
 ],
 "metadata": {
  "kernelspec": {
   "display_name": "Python 3 (ipykernel)",
   "language": "python",
   "name": "python3"
  },
  "language_info": {
   "codemirror_mode": {
    "name": "ipython",
    "version": 3
   },
   "file_extension": ".py",
   "mimetype": "text/x-python",
   "name": "python",
   "nbconvert_exporter": "python",
   "pygments_lexer": "ipython3",
   "version": "3.12.4"
  }
 },
 "nbformat": 4,
 "nbformat_minor": 5
}
