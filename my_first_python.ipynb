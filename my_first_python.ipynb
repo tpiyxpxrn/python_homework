{
 "cells": [
  {
   "cell_type": "code",
   "execution_count": 6,
   "id": "18f8bb27-137c-4dd4-b2f0-c7054fa41fc0",
   "metadata": {},
   "outputs": [
    {
     "ename": "SyntaxError",
     "evalue": "invalid syntax (4097579319.py, line 1)",
     "output_type": "error",
     "traceback": [
      "\u001b[0;36m  Cell \u001b[0;32mIn[6], line 1\u001b[0;36m\u001b[0m\n\u001b[0;31m    นางสาวปิยะพร พงษ์วัน\u001b[0m\n\u001b[0m                 ^\u001b[0m\n\u001b[0;31mSyntaxError\u001b[0m\u001b[0;31m:\u001b[0m invalid syntax\n"
     ]
    }
   ],
   "source": [
    "นางสาวปิยะพร พงษ์วัน\n",
    "6712732123"
   ]
  },
  {
   "cell_type": "code",
   "execution_count": null,
   "id": "e2be5dab-b4ef-4578-b5b9-b71a63d93104",
   "metadata": {},
   "outputs": [],
   "source": []
  }
 ],
 "metadata": {
  "kernelspec": {
   "display_name": "Python 3 (ipykernel)",
   "language": "python",
   "name": "python3"
  },
  "language_info": {
   "codemirror_mode": {
    "name": "ipython",
    "version": 3
   },
   "file_extension": ".py",
   "mimetype": "text/x-python",
   "name": "python",
   "nbconvert_exporter": "python",
   "pygments_lexer": "ipython3",
   "version": "3.12.4"
  }
 },
 "nbformat": 4,
 "nbformat_minor": 5
}
