{
 "cells": [
  {
   "cell_type": "markdown",
   "id": "b4cd3c02-e219-467d-adec-0d0a11d9e29e",
   "metadata": {},
   "source": [
    "# แบบทดสอบวัดความรู้การเขียนโปรแกรมด้วยภาษาไพธอน"
   ]
  },
  {
   "cell_type": "markdown",
   "id": "2948a9b0-c1d7-4eb5-8838-176acb70778c",
   "metadata": {},
   "source": [
    "### ประจำปีการศึกษา 2/2567\n",
    "### ผู้สอนโดย ผู้ช่วยศาสตราจารย์พิศาล สุขขี"
   ]
  },
  {
   "cell_type": "markdown",
   "id": "52214a89-8cc2-4989-a334-22c91d155e91",
   "metadata": {},
   "source": [
    "ชื่อ....ปิยะพร....... นามสกุล....พงษ์วัน......... รหัสนักศึกษา 6712732123"
   ]
  },
  {
   "cell_type": "markdown",
   "id": "be66bdec-8ff3-48b3-8f81-16887b231bf6",
   "metadata": {},
   "source": [
    "### จงแทนนิพจน์ทางคณิตศาสตร์เหล่านี้้ด้วยภาษาไพทอน"
   ]
  },
  {
   "cell_type": "markdown",
   "id": "f52fc4e7-4075-4953-af9b-23cb0761aa42",
   "metadata": {},
   "source": [
    "**ข้อที่ 1.** $ 7 \\times \\frac{5 + 6}{7 + \\frac{7}{8}} $"
   ]
  },
  {
   "cell_type": "code",
   "execution_count": 2,
   "id": "ae684192-9514-4bc3-adf4-f2527542b446",
   "metadata": {},
   "outputs": [],
   "source": [
    "# คำตอบ\n",
    "# ข้อที่ 1\n",
    "3.7 * ((5 + 6) / (7 + (8 / 3)))\n",
    "\n",
    "\n"
   ]
  },
  {
   "cell_type": "markdown",
   "id": "ad7eab25-da54-49b4-8b7e-4e008c957f2c",
   "metadata": {},
   "source": [
    "<hr>"
   ]
  },
  {
   "cell_type": "markdown",
   "id": "bf31fe17-6a86-4b14-b1a4-119e656994d3",
   "metadata": {},
   "source": [
    "**ข้อที่ 2** $ \\sqrt[2]{\\left( 7 + 3 \\times 4 \\right)} $"
   ]
  },
  {
   "cell_type": "code",
   "execution_count": 3,
   "id": "f8e9bb53-b34a-4897-b01b-2c62e7191229",
   "metadata": {},
   "outputs": [],
   "source": [
    "# คำตอบ# ข้อที่ 2\n",
    "(7 + 3 * 4) ** (1/3)\n",
    "\n",
    "\n",
    "\n"
   ]
  },
  {
   "cell_type": "markdown",
   "id": "1e60345a-875c-460a-87d1-7659462f3919",
   "metadata": {},
   "source": [
    "<hr>"
   ]
  },
  {
   "cell_type": "markdown",
   "id": "7fd2caaa-e462-4ff5-ad81-dc761fc31caa",
   "metadata": {},
   "source": [
    "**ข้อที่ 3** $ \\frac{5 + 6^{2.5}}{\\sqrt[2]{3.5}} + 3^2 $"
   ]
  },
  {
   "cell_type": "code",
   "execution_count": 4,
   "id": "e4cf0da4-4b79-45e9-887b-3ddeef89a876",
   "metadata": {},
   "outputs": [],
   "source": [
    "# คำตอบ\n",
    "(5 ** 6.25) / (3.5 ** (1/3)) + 3 ** 2\n"
   ]
  },
  {
   "cell_type": "markdown",
   "id": "7380cd6f-cdfd-4373-a313-f1d548c90893",
   "metadata": {},
   "source": [
    "<hr>"
   ]
  },
  {
   "cell_type": "markdown",
   "id": "e07fd3e9-2c77-41bc-8c89-a475cc25380c",
   "metadata": {},
   "source": [
    "## แบบทดสอบวัดความรู้เรื่องชนิดข้อมูล"
   ]
  },
  {
   "cell_type": "markdown",
   "id": "5ed88a95-692d-4097-9124-0b882a274e89",
   "metadata": {},
   "source": [
    "**ข้อที่ 4** กำหนดให้ my_list = [1, 2, 3, 4, 5] \n",
    "\n",
    "จงเพิ่มค่าให้สมาชิกทุกตัวของลิสต์ในตัวแปร my_list อย่างละ 5 ด้วยเครื่องหมาย + และพิมพ์ตัวแปร my_list ออกหน้าจอ"
   ]
  },
  {
   "cell_type": "code",
   "execution_count": 5,
   "id": "4b3cdf62-47dd-432c-94d8-920877ed601f",
   "metadata": {},
   "outputs": [],
   "source": [
    "# คำตอบ\n",
    "my_list = [1, 2, 3, 4, 5]\n",
    "my_list = [x + 5 for x in my_list]\n",
    "print(my_list)\n",
    "\n"
   ]
  },
  {
   "cell_type": "markdown",
   "id": "04c4827d-d43b-46b6-b3f6-6bc1ca41d456",
   "metadata": {},
   "source": [
    "<hr>"
   ]
  },
  {
   "cell_type": "markdown",
   "id": "081469f7-a509-4adf-ab7e-99c1a8911544",
   "metadata": {},
   "source": [
    "**กำหนดให้ my_list = [10, 20, 30, 40, 50, 60, 70, 80, 90, 100]**"
   ]
  },
  {
   "cell_type": "markdown",
   "id": "bb579639-1d63-4d2a-9b74-b813d8b98986",
   "metadata": {},
   "source": [
    "**ข้อที่ 5** จงเลือกสมาชิกตัวที่ 3 จนถึงตัวที่ 7"
   ]
  },
  {
   "cell_type": "code",
   "execution_count": 8,
   "id": "e281249d-7687-479e-a122-f4d0fed7240f",
   "metadata": {},
   "outputs": [],
   "source": [
    "# คำตอบ\n",
    "my_list = [10, 20, 30, 40, 50, 60, 70, 80, 90, 100]\n",
    "selected_items = my_list[2:7]\n",
    "print(selected_items)\n",
    "\n"
   ]
  },
  {
   "cell_type": "markdown",
   "id": "c06cf69b-9947-4140-8732-a6dc514e3361",
   "metadata": {},
   "source": [
    "<hr>"
   ]
  },
  {
   "cell_type": "markdown",
   "id": "a50dbda6-a551-49e6-a784-6062c60de14f",
   "metadata": {},
   "source": [
    "**ข้อที่ 6** จงเลือกสมาชิกตัวที่ 2 จนถึงตัวที่ 5"
   ]
  },
  {
   "cell_type": "code",
   "execution_count": 9,
   "id": "4fd57dc3-5498-48ec-a80f-e5be91ce4640",
   "metadata": {},
   "outputs": [],
   "source": [
    "# คำตอบ\n",
    "my_list = [10, 20, 30, 40, 50, 60, 70, 80, 90, 100]\n",
    "selected_items = my_list[1:6]\n",
    "print(selected_items)\n",
    "\n"
   ]
  },
  {
   "cell_type": "markdown",
   "id": "0a2fd1c3-239f-48f5-92f5-80d2e19b0d45",
   "metadata": {},
   "source": [
    "<hr>"
   ]
  },
  {
   "cell_type": "markdown",
   "id": "67828813-a498-4478-956e-845b1f62ed4c",
   "metadata": {},
   "source": [
    "**ข้อที่ 7** จงเลือกสมาชิกตั้งแต่ตัวแรกจนถึงตัวที่ 8"
   ]
  },
  {
   "cell_type": "code",
   "execution_count": 10,
   "id": "129d32c4-7b44-435e-a92b-23e5feac1859",
   "metadata": {},
   "outputs": [],
   "source": [
    "# คำตอบ\n",
    "my_list = [10, 20, 30, 40, 50, 60, 70, 80, 90, 100]\n",
    "selected_items = my_list[:9]\n",
    "print(selected_items)\n",
    "\n"
   ]
  },
  {
   "cell_type": "markdown",
   "id": "79855b21-4fe5-4782-a539-d6dee869df79",
   "metadata": {},
   "source": [
    "<hr>"
   ]
  },
  {
   "cell_type": "markdown",
   "id": "e55c59d1-fe52-409e-a94a-69da2d908435",
   "metadata": {},
   "source": [
    "### แบบทดสอบวัดความรู้เรื่อง โครงสร้างควบคุม"
   ]
  },
  {
   "cell_type": "markdown",
   "id": "3ba6d469-0fc6-4be2-ae54-e9a27ddff5ad",
   "metadata": {},
   "source": [
    "**ข้อที่ 8** จงวนลูปเพื่อแสดงสูตรคูณแม่ 3 ไล่ตั้งแต่  3×1  จนถึง  3×12  โดยจะได้ผลลัพธ์ดังนี้"
   ]
  },
  {
   "cell_type": "raw",
   "id": "e1006360-f7c1-4c05-911a-bf224af4e1c6",
   "metadata": {},
   "source": [
    "3 * 1 = 3\n",
    "3 * 2 = 6\n",
    "3 * 3 = 9\n",
    ":\n",
    ":\n",
    ":\n",
    "3 * 12 = 36"
   ]
  },
  {
   "cell_type": "code",
   "execution_count": 11,
   "id": "0cb5d448-e014-4b0a-902f-b49d43bddae7",
   "metadata": {},
   "outputs": [],
   "source": [
    "# วนลูปค่า index i จาก 1 ถึง 12\n",
    "for i in range(1, 13):\n",
    "    print(f\"3 * {i} = {3 * i}\")\n",
    "\n"
   ]
  },
  {
   "cell_type": "markdown",
   "id": "9d459c25-7c17-4977-8d05-261ebadb2248",
   "metadata": {},
   "source": [
    "<hr>"
   ]
  },
  {
   "cell_type": "markdown",
   "id": "46c978fe-6fa5-4fdf-bf3c-aacf1220c120",
   "metadata": {},
   "source": [
    "**ข้อที่ 9** จงเขียนโปรแกรมเพื่อไล่แม่สูตรคูณจากแม่ 11 ถึงแม่ 15 โดยแต่ละแม่จะคูณกับตัวเลขตั้งแต่ 1 จนถึง 12"
   ]
  },
  {
   "cell_type": "code",
   "execution_count": 12,
   "id": "6dae5b1e-e315-4c27-b136-6334a99f908a",
   "metadata": {},
   "outputs": [
    {
     "name": "stdout",
     "output_type": "stream",
     "text": [
      "แม่ 11:\n",
      "11 * 1 = 11\n",
      "11 * 2 = 22\n",
      "11 * 3 = 33\n",
      "11 * 4 = 44\n",
      "11 * 5 = 55\n",
      "11 * 6 = 66\n",
      "11 * 7 = 77\n",
      "11 * 8 = 88\n",
      "11 * 9 = 99\n",
      "11 * 10 = 110\n",
      "11 * 11 = 121\n",
      "11 * 12 = 132\n",
      "\n",
      "แม่ 12:\n",
      "12 * 1 = 12\n",
      "12 * 2 = 24\n",
      "12 * 3 = 36\n",
      "12 * 4 = 48\n",
      "12 * 5 = 60\n",
      "12 * 6 = 72\n",
      "12 * 7 = 84\n",
      "12 * 8 = 96\n",
      "12 * 9 = 108\n",
      "12 * 10 = 120\n",
      "12 * 11 = 132\n",
      "12 * 12 = 144\n",
      "\n",
      "แม่ 13:\n",
      "13 * 1 = 13\n",
      "13 * 2 = 26\n",
      "13 * 3 = 39\n",
      "13 * 4 = 52\n",
      "13 * 5 = 65\n",
      "13 * 6 = 78\n",
      "13 * 7 = 91\n",
      "13 * 8 = 104\n",
      "13 * 9 = 117\n",
      "13 * 10 = 130\n",
      "13 * 11 = 143\n",
      "13 * 12 = 156\n",
      "\n",
      "แม่ 14:\n",
      "14 * 1 = 14\n",
      "14 * 2 = 28\n",
      "14 * 3 = 42\n",
      "14 * 4 = 56\n",
      "14 * 5 = 70\n",
      "14 * 6 = 84\n",
      "14 * 7 = 98\n",
      "14 * 8 = 112\n",
      "14 * 9 = 126\n",
      "14 * 10 = 140\n",
      "14 * 11 = 154\n",
      "14 * 12 = 168\n",
      "\n",
      "แม่ 15:\n",
      "15 * 1 = 15\n",
      "15 * 2 = 30\n",
      "15 * 3 = 45\n",
      "15 * 4 = 60\n",
      "15 * 5 = 75\n",
      "15 * 6 = 90\n",
      "15 * 7 = 105\n",
      "15 * 8 = 120\n",
      "15 * 9 = 135\n",
      "15 * 10 = 150\n",
      "15 * 11 = 165\n",
      "15 * 12 = 180\n",
      "\n"
     ]
    }
   ],
   "source": [
    "# วนลูป index m เพื่อไล่แม่สูตรคูณจากแม่ 11 ถึงแม่ 15\n",
    "for n in range(11, 16):\n",
    "    print(f\"แม่ {n}:\")\n",
    "    for i in range(1, 13):\n",
    "        print(f\"{n} * {i} = {n * i}\")\n",
    "    print()\n",
    "\n"
   ]
  },
  {
   "cell_type": "markdown",
   "id": "944d0114-976b-4e32-8ae8-f6b9c81953ca",
   "metadata": {},
   "source": [
    "<hr>"
   ]
  },
  {
   "cell_type": "markdown",
   "id": "55ee2850-c0d9-4a78-83fc-55f7f55f783b",
   "metadata": {},
   "source": [
    "**ข้อที่ 10** จงเขียนโปรแกรมเพื่อให้ได้ผลลัพธ์ดังต่อไปนี้"
   ]
  },
  {
   "cell_type": "markdown",
   "id": "c99a3635-0310-4b83-8306-86e03265e7cc",
   "metadata": {},
   "source": [
    "จงเขียนฟังก์ชันที่ทำหน้าที่กลับสตริงจากหน้าเป็นหลัง \n",
    "\n",
    "โดยมีการส่งอาร์กิวเมนต์ที่เป็นสติงไปให้ฟังก์ชันทำงาน เช่น"
   ]
  },
  {
   "cell_type": "code",
   "execution_count": 17,
   "id": "29d46902-f6f1-40fb-ba1f-1ba3ea104d95",
   "metadata": {},
   "outputs": [
    {
     "data": {
      "text/plain": [
       "'\\nArgument String: \"1234abcd\"\\nExpected Output: \"dcba4321\"\\n'"
      ]
     },
     "execution_count": 17,
     "metadata": {},
     "output_type": "execute_result"
    }
   ],
   "source": [
    "\"\"\"\n",
    "Argument String: \"1234abcd\"\n",
    "Expected Output: \"dcba4321\"\n",
    "\"\"\""
   ]
  },
  {
   "cell_type": "code",
   "execution_count": 19,
   "id": "4a931ad9-f8e8-4643-b127-01194b81f0a6",
   "metadata": {},
   "outputs": [
    {
     "name": "stdout",
     "output_type": "stream",
     "text": [
      "Argument String: 1234abcd\n",
      "Expected Output: dcba4321\n"
     ]
    }
   ],
   "source": [
    "# คำตอบ\n",
    "def reverse_string(s):\n",
    "    return s[::-1]\n",
    "argument_string = \"1234abcd\"\n",
    "result = reverse_string(argument_string)\n",
    "print(\"Argument String:\", argument_string)\n",
    "print(\"Expected Output:\", result)\n",
    "\n"
   ]
  },
  {
   "cell_type": "markdown",
   "id": "9959fdd7-5ea8-493a-a4d5-263fd067834e",
   "metadata": {},
   "source": [
    "<hr>"
   ]
  },
  {
   "cell_type": "markdown",
   "id": "55e4c0f5-4d9e-4f04-81b7-f86a816562a2",
   "metadata": {},
   "source": [
    "**ข้่อที่ 11** กำหนดให้\n",
    "\n",
    "str = \"Python Programming\"\n",
    "\n",
    "จงเขียนโปรแกรมที่แสดงผลเฉพาะคำว่า Programming จาก str"
   ]
  },
  {
   "cell_type": "code",
   "execution_count": 23,
   "id": "42c24d42-f4ad-475c-87ca-a30640696a62",
   "metadata": {},
   "outputs": [
    {
     "name": "stdout",
     "output_type": "stream",
     "text": [
      "Programming\n"
     ]
    }
   ],
   "source": [
    "# คำตอบ\n",
    "str = \"Python Programming\"\n",
    "result = str[7:]\n",
    "print(result)\n",
    "\n"
   ]
  },
  {
   "cell_type": "markdown",
   "id": "bb011ab0-a672-4fd8-af97-a39d341a57cb",
   "metadata": {},
   "source": [
    "<hr>"
   ]
  },
  {
   "cell_type": "markdown",
   "id": "3ccd220e-b02d-4324-8a13-9a360ce1bdb0",
   "metadata": {},
   "source": [
    "**ข้อที่ 12** ให้ทำการแสดงเลขคู่ทั้งหมดที่อยู่ในช่วง 1 - 100"
   ]
  },
  {
   "cell_type": "code",
   "execution_count": 27,
   "id": "b27af344-cb7b-4464-bba1-817e71de8ff1",
   "metadata": {},
   "outputs": [
    {
     "name": "stdout",
     "output_type": "stream",
     "text": [
      "2\n",
      "4\n",
      "6\n",
      "8\n",
      "10\n",
      "12\n",
      "14\n",
      "16\n",
      "18\n",
      "20\n",
      "22\n",
      "24\n",
      "26\n",
      "28\n",
      "30\n",
      "32\n",
      "34\n",
      "36\n",
      "38\n",
      "40\n",
      "42\n",
      "44\n",
      "46\n",
      "48\n",
      "50\n",
      "52\n",
      "54\n",
      "56\n",
      "58\n",
      "60\n",
      "62\n",
      "64\n",
      "66\n",
      "68\n",
      "70\n",
      "72\n",
      "74\n",
      "76\n",
      "78\n",
      "80\n",
      "82\n",
      "84\n",
      "86\n",
      "88\n",
      "90\n",
      "92\n",
      "94\n",
      "96\n",
      "98\n",
      "100\n"
     ]
    }
   ],
   "source": [
    "# คำตอบ\n",
    "for i in range(1, 101):  \n",
    "    if i % 2 == 0: \n",
    "        print(i)\n",
    "\n"
   ]
  },
  {
   "cell_type": "markdown",
   "id": "1b5c99ad-29d4-4587-ae27-e7d64c8c3f08",
   "metadata": {},
   "source": [
    "<hr>"
   ]
  },
  {
   "cell_type": "markdown",
   "id": "12043275-7256-4a53-8722-b3573b5301e8",
   "metadata": {},
   "source": [
    "**ข้อที่ 13** ให้เขียนโปรแกรม เพื่อรับจำนวนหรือตัวเลขเข้ามาจากคีย์บอร์ด และตรวจสอบว่าจำนวนที่รับเข้ามานั้นมีค่าต่ำกว่า 100 หรือไม่ "
   ]
  },
  {
   "cell_type": "code",
   "execution_count": 4,
   "id": "d0e2279f-340d-461c-b5d8-5bdaa1f9661f",
   "metadata": {},
   "outputs": [],
   "source": [
    "# คำตอบ\n",
    "#include <stdio.h>\n",
    "int main() {\n",
    "    int number;\n",
    "    printf(\"Enter number: \");\n",
    "    scanf(\"%d\", &number);\n",
    "\n",
    "    if (number < 100) {\n",
    "        printf(\"ตัวเลข %d มีค่าต่ำกว่า 100\\n\", number);\n",
    "    } else {\n",
    "        printf(\"ตัวเลข %d มีค่าเท่ากับหรือมากกว่า 100\\n\", number);\n",
    "    }\n",
    "\n",
    "    return 0;\n",
    "}\n",
    "\n",
    "\n"
   ]
  },
  {
   "cell_type": "markdown",
   "id": "313cfeb9-3413-4a11-a2da-c201785b064c",
   "metadata": {},
   "source": [
    "<hr />"
   ]
  },
  {
   "cell_type": "markdown",
   "id": "ebe25b48-312b-4513-84c8-d90acc72cc14",
   "metadata": {},
   "source": [
    "**ข้อที่ 14** ให้เขียนโปรแกรม เพื่อคำนวนหาผลรวมของตัวเลขในช่วง 1 ถึง 100"
   ]
  },
  {
   "cell_type": "code",
   "execution_count": null,
   "id": "f49ea3e1-2226-4373-94d7-a45735b127df",
   "metadata": {},
   "outputs": [],
   "source": [
    "# คำตอบ\n",
    "#include <stdio.h>\n",
    "int main() {\n",
    "    int sum = 0;\n",
    "\n",
    "    for (int i = 1; i <= 100; i++) {\n",
    "        sum += i;\n",
    "    }\n",
    "\n",
    "    printf(\"ผลรวมของตัวเลขตั้งแต่ 1 ถึง 100 คือ: %d\\n\", sum);\n",
    "\n",
    "    return 0;\n",
    "}\n",
    "\n",
    "\n"
   ]
  },
  {
   "cell_type": "markdown",
   "id": "22f81c78-bc0e-48d7-84e2-4e58e6aff8a5",
   "metadata": {},
   "source": [
    "<hr>"
   ]
  },
  {
   "cell_type": "markdown",
   "id": "76ab1c2e-4564-4994-a3ff-ec874fe0ea46",
   "metadata": {},
   "source": [
    "**ข้อที่ 15** ให้เขียนโปรแกรม เพื่อแสดงเลขคี่ ของตัวเลขในช่วง 1 ถึง 100"
   ]
  },
  {
   "cell_type": "code",
   "execution_count": null,
   "id": "bed94210-1f07-4e10-b31c-09913b54d967",
   "metadata": {},
   "outputs": [],
   "source": [
    "# คำตอบ\n",
    "#include <stdio.h>\n",
    "\n",
    "int main() {\n",
    "\n",
    "    printf(\"เลขคี่ในช่วง 1 ถึง 100 คือ:\\n\");\n",
    "\n",
    "    for (int i = 1; i <= 100; i++) {\n",
    "      \n",
    "        if (i % 2 != 0) {\n",
    "            printf(\"%d \", i);\n",
    "        }\n",
    "    }\n",
    "\n",
    "    printf(\"\\n\");\n",
    "\n",
    "    return 0;\n",
    "}\n",
    "\n"
   ]
  }
 ],
 "metadata": {
  "kernelspec": {
   "display_name": "Python 3 (ipykernel)",
   "language": "python",
   "name": "python3"
  },
  "language_info": {
   "codemirror_mode": {
    "name": "ipython",
    "version": 3
   },
   "file_extension": ".py",
   "mimetype": "text/x-python",
   "name": "python",
   "nbconvert_exporter": "python",
   "pygments_lexer": "ipython3",
   "version": "3.12.4"
  }
 },
 "nbformat": 4,
 "nbformat_minor": 5
}
